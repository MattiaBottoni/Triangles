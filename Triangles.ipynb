{
 "cells": [
  {
   "cell_type": "code",
   "execution_count": 2,
   "metadata": {},
   "outputs": [],
   "source": [
    "class Triangle:\n",
    "    def __init__(self, A, B, C):\n",
    "        self.A = A\n",
    "        self.B = B\n",
    "        self.C = C\n",
    "        self.CB = vector(self.C)-vector(self.B)\n",
    "        self.AC = vector(self.A)-vector(self.C)\n",
    "        self.BA = vector(self.B)-vector(self.A)\n",
    "        self.a = sqrt(self.CB[0]^2 + self.CB[1]^2)\n",
    "        self.b = sqrt(self.AC[0]^2 + self.AC[1]^2)\n",
    "        self.c = sqrt(self.BA[0]^2 + self.BA[1]^2)\n",
    "        self.s = (self.a + self.b + self.c)/2\n",
    "    def side(self):\n",
    "        return [self.a, self.b, self.c]\n",
    "    \n",
    "    def area(self):\n",
    "        return sqrt(self.s * (self.s - self.a) * (self.s - self.b) * (self.s - self.c))\n",
    "    \n",
    "    def type(self):\n",
    "        if self.a == self.b == self.c:\n",
    "            return \"The triangle is equilateral.\"\n",
    "        elif self.a == self.b != self.c or self.a != self.b == self.c or self.a == self.c != self.b:\n",
    "            return \"The triangle is isosceles.\"\n",
    "        else:\n",
    "            return \"The triangle is neither equilateral nor isosceles.\"\n",
    "    \n",
    "    def checkValidity(a, b, c):\n",
    "        if (a + b <= c) or (a + c <= b) or (b + c <= a) :\n",
    "            return False\n",
    "        else:\n",
    "            return True\n",
    "        \n",
    "    def Valid(alpha, beta, gamma):\n",
    "        if ((alpha + beta + gamma == 180) and alpha != 0 and beta != 0 and gamma != 0):\n",
    "            return True\n",
    "        else:\n",
    "            return False\n",
    "    \n",
    "    def plot(self):\n",
    "        return polygon([self.A, self.B, self.C])"
   ]
  },
  {
   "cell_type": "markdown",
   "metadata": {},
   "source": [
    "We need at least one point and three informations consisting of angles and edges which are connected."
   ]
  },
  {
   "cell_type": "code",
   "execution_count": 3,
   "metadata": {
    "scrolled": true
   },
   "outputs": [],
   "source": [
    "T = Triangle((14,16),(20,17),(17,25))"
   ]
  },
  {
   "cell_type": "code",
   "execution_count": 7,
   "metadata": {},
   "outputs": [
    {
     "data": {
      "text/plain": [
       "[sqrt(73), 3*sqrt(10), sqrt(37)]"
      ]
     },
     "execution_count": 7,
     "metadata": {},
     "output_type": "execute_result"
    }
   ],
   "source": [
    "T.side()"
   ]
  },
  {
   "cell_type": "code",
   "execution_count": 6,
   "metadata": {},
   "outputs": [
    {
     "data": {
      "text/plain": [
       "1/4*sqrt(-(sqrt(73) + sqrt(37) + 3*sqrt(10))*(sqrt(73) + sqrt(37) - 3*sqrt(10))*(sqrt(73) - sqrt(37) + 3*sqrt(10))*(sqrt(73) - sqrt(37) - 3*sqrt(10)))"
      ]
     },
     "execution_count": 6,
     "metadata": {},
     "output_type": "execute_result"
    }
   ],
   "source": [
    "T.area()"
   ]
  },
  {
   "cell_type": "code",
   "execution_count": 4,
   "metadata": {
    "scrolled": true
   },
   "outputs": [
    {
     "data": {
      "image/png": "[encoded data removed]",
      "text/plain": [
       "Graphics object consisting of 1 graphics primitive"
      ]
     },
     "execution_count": 4,
     "metadata": {},
     "output_type": "execute_result"
    }
   ],
   "source": [
    "T.plot()"
   ]
  },
  {
   "cell_type": "code",
   "execution_count": 5,
   "metadata": {},
   "outputs": [
    {
     "data": {
      "text/plain": [
       "'The triangle is neither equilateral nor isosceles.'"
      ]
     },
     "execution_count": 5,
     "metadata": {},
     "output_type": "execute_result"
    }
   ],
   "source": [
    "T.type()"
   ]
  },
  {
   "cell_type": "code",
   "execution_count": 10,
   "metadata": {},
   "outputs": [
    {
     "data": {
      "text/plain": [
       "True"
      ]
     },
     "execution_count": 10,
     "metadata": {},
     "output_type": "execute_result"
    }
   ],
   "source": [
    "5 != 3"
   ]
  },
  {
   "cell_type": "code",
   "execution_count": null,
   "metadata": {},
   "outputs": [],
   "source": []
  }
 ],
 "metadata": {
  "kernelspec": {
   "display_name": "SageMath 9.3",
   "language": "sage",
   "name": "sagemath"
  },
  "language_info": {
   "codemirror_mode": {
    "name": "ipython",
    "version": 3
   },
   "file_extension": ".py",
   "mimetype": "text/x-python",
   "name": "python",
   "nbconvert_exporter": "python",
   "pygments_lexer": "ipython3",
   "version": "3.7.10"
  }
 },
 "nbformat": 4,
 "nbformat_minor": 4
}
